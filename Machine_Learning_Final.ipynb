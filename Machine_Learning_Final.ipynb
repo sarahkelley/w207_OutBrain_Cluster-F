{
 "cells": [
  {
   "cell_type": "code",
   "execution_count": 1,
   "metadata": {
    "collapsed": false
   },
   "outputs": [],
   "source": [
    "# importing general libraries\n",
    "import pandas as pd\n",
    "import numpy as np\n",
    "import copy\n",
    "import itertools\n",
    "from matplotlib import pyplot as plt\n",
    "%matplotlib inline\n",
    "\n",
    "# importing ML libraries\n",
    "import sklearn\n",
    "from sklearn import metrics\n",
    "from sklearn.metrics import classification_report\n",
    "from sklearn.linear_model import LinearRegression\n",
    "from sklearn.linear_model import LogisticRegression\n",
    "from sklearn.neighbors import KNeighborsClassifier\n",
    "from sklearn.grid_search import GridSearchCV\n",
    "from sklearn import tree\n",
    "from sklearn.ensemble import RandomForestClassifier\n",
    "from sklearn.ensemble import ExtraTreesClassifier\n",
    "from sklearn.metrics import confusion_matrix\n",
    "\n",
    "# importing visual analysis \n",
    "from IPython.display import Image"
   ]
  },
  {
   "cell_type": "markdown",
   "metadata": {},
   "source": [
    "## Read in Data"
   ]
  },
  {
   "cell_type": "code",
   "execution_count": 2,
   "metadata": {
    "collapsed": false
   },
   "outputs": [],
   "source": [
    "#click_train_data= pd.read_csv(\"clicks_train_features.csv\")\n",
    "train_data = pd.read_csv('../input/trainingdata.csv')\n",
    "train_labels = pd.read_csv('../input/traininglabels.csv')\n",
    "dev_data = pd.read_csv('../input/developmentdata.csv')\n",
    "dev_labels =pd.read_csv('../input/developmentlabels.csv')"
   ]
  },
  {
   "cell_type": "code",
   "execution_count": 3,
   "metadata": {
    "collapsed": false
   },
   "outputs": [],
   "source": [
    "#convert train labels into an array, so sklearn accepts them\n",
    "train_labels =train_labels[\"0\"]\n",
    "dev_labels = dev_labels[\"0\"]"
   ]
  },
  {
   "cell_type": "code",
   "execution_count": 4,
   "metadata": {
    "collapsed": false
   },
   "outputs": [],
   "source": [
    "#get rid of the categorical variables we can't use for regression and decision trees\n",
    "full_train = train_data[train_data.columns[11:]].fillna(0)\n",
    "full_dev = dev_data[dev_data.columns[11:]].fillna(0)\n",
    "#Make small version of the data for GridSearch (otherwise it is unbelieveably slow)\n",
    "mini_train =full_train[:5000]\n",
    "mini_dev = full_train[5000:7000]\n",
    "mini_train_labels = train_labels[:5000]\n",
    "mini_dev_labels = train_labels[5000:7000]"
   ]
  },
  {
   "cell_type": "markdown",
   "metadata": {},
   "source": [
    "## Logistic Regression"
   ]
  },
  {
   "cell_type": "markdown",
   "metadata": {},
   "source": [
    "**Rationale:** \n",
    "We started with logistic regression (we could not use linear since we have a binary response variable) since the large number of cases would make it more accurate than techniques like Naive Bayes.\n",
    "Although some of the regession assumptions are violated (chiefly multifolinearity), we decided to continue anyway because the focus of this challenge is getting the best prediction rather than identifying accurately the size of each individual coefficient.\n",
    "\n",
    "**Approach:**\n",
    "We first fit a logistic regression model without regularization, using all the binarized features (representing document category, topic etc) and continuous features reprenting the percent of ads from that ad campaign that had been clicked, the percent of ads from that advertiser that had been clicked, the frequency of document views, and the percentage of that ad that had been clicked.\n",
    "\n",
    "Then we use grid search to identify the optimal level of regularization and whether l2 or l1 regularization would perform better. We expected l1 regularization to be superior because it more harshly penalizes very low weighted features. \n",
    "\n",
    "Finally, we tried exercising our domain knowledge/judgement and running a regression with only the four predictors we expected to be most predictive, which were the percent of ads from that ad campaign that had been clicked, the percent of ads from that advertiser that had been clicked, the frequency of document views, and the percentage of that ad that had been clicked. "
   ]
  },
  {
   "cell_type": "markdown",
   "metadata": {},
   "source": [
    "**Exploration of Some Key Variables**"
   ]
  },
  {
   "cell_type": "code",
   "execution_count": 5,
   "metadata": {
    "collapsed": false
   },
   "outputs": [
    {
     "name": "stdout",
     "output_type": "stream",
     "text": [
      "The click percent is correlated 0.866557250489 with the campaign percent.\n",
      "The advertiser percent is correlated 0.831655161645 with the campaign percent.\n",
      "The advertiser percent is correlated 0.811708146085 with the click percent\n",
      "The advertiser percent is correlated 0.08089912812 with document frequency.\n",
      "Other representative variables are not excessively correlated.\n",
      "0.000134479244919\n",
      "0.00135907055519\n",
      "-0.000873503139683\n",
      "0.00696351770159\n",
      "0.00516579974675\n"
     ]
    },
    {
     "data": {
      "text/plain": [
       "<matplotlib.axes._subplots.AxesSubplot at 0xb324320>"
      ]
     },
     "execution_count": 5,
     "metadata": {},
     "output_type": "execute_result"
    },
    {
     "data": {
      "image/png": "[encoded data removed]",
      "text/plain": [
       "<matplotlib.figure.Figure at 0xb309a90>"
      ]
     },
     "metadata": {},
     "output_type": "display_data"
    }
   ],
   "source": [
    "# Multicollinearity\n",
    "print(\"The click percent is correlated\", train_data['click_perc'].corr(train_data['campaign_perc']), \"with the campaign percent.\")\n",
    "print(\"The advertiser percent is correlated\", train_data['advertiser_perc'].corr(train_data['campaign_perc']), 'with the campaign percent.')\n",
    "print(\"The advertiser percent is correlated\",train_data['advertiser_perc'].corr(train_data['click_perc']), 'with the click percent')\n",
    "print(\"The advertiser percent is correlated\", train_data['advertiser_perc'].corr(train_data['docx_view_freq']), \"with document frequency.\")\n",
    "print(\"Other representative variables are not excessively correlated.\")\n",
    "print(train_data['cat_1000'].corr(train_data['cat_1210']))\n",
    "print(train_data['top_200'].corr(train_data['cat_1210']))\n",
    "print(train_data['cat_1000'].corr(train_data['top_130']))\n",
    "print(train_data['cat_1000'].corr(train_data['campaign_perc']))\n",
    "print(train_data['cat_1000'].corr(train_data['click_perc']))\n",
    "\n",
    "\n",
    "# there are some higher correlations between advertiser_perc, campaign_perc, and click_perc which make sense\n",
    "# because advertisers have their own campaigns and each advertisement belongs to an advertiser and a campaign\n",
    "\n",
    "# Shape of Predictor Variables\n",
    "train_data['advertiser_perc'].hist()\n",
    "np.log1p(train_data['advertiser_perc']).hist()\n",
    "# transformation didn't make that much more normal, but normality is a weaker assumption that doesn't have to be fulfilled..."
   ]
  },
  {
   "cell_type": "markdown",
   "metadata": {},
   "source": [
    "** Regression with all features, unregularized**"
   ]
  },
  {
   "cell_type": "code",
   "execution_count": 6,
   "metadata": {
    "collapsed": false
   },
   "outputs": [
    {
     "name": "stdout",
     "output_type": "stream",
     "text": [
      "The accuracy is 0.859842668494 using all possible features\n"
     ]
    }
   ],
   "source": [
    "#with all regressable features\n",
    "lr = LogisticRegression()\n",
    "lr.fit(full_train, train_labels)\n",
    "lr_score_1 = lr.score(full_dev, dev_labels)\n",
    "print(\"The accuracy is\", lr_score_1, \"using all possible features\")"
   ]
  },
  {
   "cell_type": "markdown",
   "metadata": {},
   "source": [
    "** Regression using regularization to reduce features **"
   ]
  },
  {
   "cell_type": "code",
   "execution_count": 7,
   "metadata": {
    "collapsed": false
   },
   "outputs": [
    {
     "name": "stdout",
     "output_type": "stream",
     "text": [
      "The accuracy is 0.860090713661 using regularization with the best parameters idenfitied by grid search.\n",
      "These parameters are: l1 penalty and 0.5 C.\n",
      "This leaves 120 non-zero parameters.\n"
     ]
    }
   ],
   "source": [
    "#grid search runs on the smaller data because running it on the full data takes too long for a demo notebook\n",
    "lr = LogisticRegression()\n",
    "C = {\"C\": [.01, .05, 0.1, .2, .5, 1 , 10, 100], 'penalty':[\"l1\", \"l2\"]}\n",
    "search = GridSearchCV(lr, param_grid = C)\n",
    "lr_params = search.fit(full_train, train_labels)\n",
    "lr_best = lr_params.best_params_\n",
    "lr = LogisticRegression(C= lr_best[\"C\"], penalty = lr_best[\"penalty\"])\n",
    "lr.fit(full_train, train_labels)\n",
    "lr_score_2 = lr.score(full_dev, dev_labels)\n",
    "print(\"The accuracy is\", lr_score_2, \"using regularization with the best parameters idenfitied by grid search.\")\n",
    "print (\"These parameters are:\", lr_best[\"penalty\"], 'penalty and',lr_best[\"C\"], 'C.')\n",
    "print (\"This leaves\", np.count_nonzero(lr.coef_), \"non-zero parameters.\")"
   ]
  },
  {
   "cell_type": "markdown",
   "metadata": {},
   "source": [
    "The features with the largest coefficients: (with a caveat that multicolinearity complicates interpreting the coefficients of the four % features)"
   ]
  },
  {
   "cell_type": "code",
   "execution_count": 8,
   "metadata": {
    "collapsed": false
   },
   "outputs": [
    {
     "data": {
      "text/plain": [
       "396    campaign_perc\n",
       "398       click_perc\n",
       "184          top_184\n",
       "174          top_174\n",
       "238          top_238\n",
       "8              top_8\n",
       "199          top_199\n",
       "37            top_37\n",
       "131          top_131\n",
       "382         cat_1910\n",
       "Name: cols, dtype: object"
      ]
     },
     "execution_count": 8,
     "metadata": {},
     "output_type": "execute_result"
    }
   ],
   "source": [
    "coef = list(lr.coef_[0])\n",
    "cols = list(mini_train.columns.values)\n",
    "feature_imp = pd.DataFrame({\"coef\":coef, \"cols\": cols})\n",
    "feature_imp.tail()\n",
    "feature_imp.sort_values('coef', ascending = False, inplace = True)\n",
    "feature_imp['cols'][:10]"
   ]
  },
  {
   "cell_type": "markdown",
   "metadata": {},
   "source": [
    "Full Classification Report:"
   ]
  },
  {
   "cell_type": "code",
   "execution_count": 9,
   "metadata": {
    "collapsed": false
   },
   "outputs": [
    {
     "name": "stdout",
     "output_type": "stream",
     "text": [
      "             precision    recall  f1-score   support\n",
      "\n",
      "          0       0.87      0.99      0.92     72008\n",
      "          1       0.65      0.14      0.23     12654\n",
      "\n",
      "avg / total       0.83      0.86      0.82     84662\n",
      "\n"
     ]
    }
   ],
   "source": [
    "preds = lr.predict(full_dev)\n",
    "print(classification_report(dev_labels, preds))"
   ]
  },
  {
   "cell_type": "markdown",
   "metadata": {},
   "source": [
    "The f1-score especially for class 1 ('clicked\") is rather low. \n",
    "\n",
    "The precision (proportion to ads predicted 'clicked' that were actually clicked is OK (.65)) but the recall is very poor (many adds that were actually clicked are being predicted \"unclicked\")."
   ]
  },
  {
   "cell_type": "markdown",
   "metadata": {},
   "source": [
    "Lets visualize this with a confusion matrix:"
   ]
  },
  {
   "cell_type": "code",
   "execution_count": 10,
   "metadata": {
    "collapsed": false
   },
   "outputs": [
    {
     "data": {
      "image/png": "[encoded data removed]",
      "text/plain": [
       "<matplotlib.figure.Figure at 0x47403c8>"
      ]
     },
     "metadata": {},
     "output_type": "display_data"
    }
   ],
   "source": [
    "#code reference: http://scikit-learn.org/stable/auto_examples/model_selection/plot_confusion_matrix.html\n",
    "def plot_confusion_matrix(cm, classes,\n",
    "                          normalize=False,\n",
    "                          title='Confusion matrix',\n",
    "                          cmap=plt.cm.Reds):\n",
    "    \"\"\"\n",
    "    This function prints and plots the confusion matrix.\n",
    "    Normalization can be applied by setting `normalize=True`.\n",
    "    \"\"\"\n",
    "    plt.imshow(cm, interpolation='nearest', cmap=cmap)\n",
    "    plt.title(title)\n",
    "    plt.colorbar()\n",
    "    tick_marks = np.arange(len(classes))\n",
    "    plt.xticks(tick_marks, classes, rotation=45)\n",
    "    plt.yticks(tick_marks, classes)\n",
    "\n",
    "    if normalize:\n",
    "        cm = cm.astype('float') / cm.sum(axis=1)[:, np.newaxis]\n",
    "    else:\n",
    "        pass\n",
    "\n",
    "    thresh = cm.max() / 2.\n",
    "    for i, j in itertools.product(range(cm.shape[0]), range(cm.shape[1])):\n",
    "        plt.text(j, i, cm[i, j],\n",
    "                 horizontalalignment=\"center\",\n",
    "                 color=\"white\" if cm[i, j] > thresh else \"black\")\n",
    "\n",
    "    plt.tight_layout()\n",
    "    plt.ylabel('True label')\n",
    "    plt.xlabel('Predicted label')\n",
    "\n",
    "# Compute confusion matrix\n",
    "cnf_matrix = confusion_matrix(dev_labels, preds)\n",
    "np.set_printoptions(precision=2)\n",
    "\n",
    "# Plot non-normalized confusion matrix\n",
    "plt.figure()\n",
    "plot_confusion_matrix(cnf_matrix, classes=[\"unclicked\", \"clicked\"],\n",
    "                      title='Confusion matrix, with normalization')"
   ]
  },
  {
   "cell_type": "markdown",
   "metadata": {},
   "source": [
    "** Regression Model Training using the Four 'Logically' chosen Groups **"
   ]
  },
  {
   "cell_type": "code",
   "execution_count": 11,
   "metadata": {
    "collapsed": false
   },
   "outputs": [
    {
     "name": "stdout",
     "output_type": "stream",
     "text": [
      "The accuracy is 0.85996078524 using the top 'logically chosen' features.\n",
      "\n",
      "\n"
     ]
    }
   ],
   "source": [
    "lr = LogisticRegression()\n",
    "lr.fit(full_train[full_train.columns[-4:]], train_labels)\n",
    "lr_score_3 = lr.score(full_dev[full_dev.columns[-4:]], dev_labels)\n",
    "print(\"The accuracy is\", lr_score_3, \"using the top 'logically chosen' features.\")\n",
    "print(\"\\n\")"
   ]
  },
  {
   "cell_type": "markdown",
   "metadata": {},
   "source": [
    "## Regression Conclusions:\n",
    "Regularization doesn't make much of difference.\n",
    "The highest accuracy achieved is about 86%. \n",
    "The 4 added features performed well, although only campaign % clicked and ad % clicked were in the top 10 largest coeficients."
   ]
  },
  {
   "cell_type": "markdown",
   "metadata": {},
   "source": [
    "# Decision Trees and Random Forest"
   ]
  },
  {
   "cell_type": "markdown",
   "metadata": {},
   "source": [
    "**Rationale:** A random forest algorithm seemed like the perfect technique to approach this since it is a classification problem (ads are either clicked or not clicked) and we had a very large number of features, many of which are likely irrelevant. Random Forest models address decision trees issues with over fitting by averaging the results of many different decision trees trained on different sub samples of the data. This increases variance but decreases bias, leading to more accurate prediction on test data. \n",
    "\n",
    "**Approach:** We trained first a standard decision tree, and then trained a random forest model using grid search to optimize the maximum number of features the trees would use, the number of trees, and the information gain criterion (either gini or entropy). We then scored the model using the best features. \n",
    "We also then fit an extra trees model, which tends towards a larger number of leaves, using the same grid search parameters as with the random forest. "
   ]
  },
  {
   "cell_type": "markdown",
   "metadata": {},
   "source": [
    "** Single Decision Tree **"
   ]
  },
  {
   "cell_type": "code",
   "execution_count": 12,
   "metadata": {
    "collapsed": false
   },
   "outputs": [
    {
     "name": "stdout",
     "output_type": "stream",
     "text": [
      "A single decision tree got an accuracy of 0.846920696416\n"
     ]
    }
   ],
   "source": [
    "dec_tree = tree.DecisionTreeClassifier()\n",
    "dec_tree = dec_tree.fit(full_train, train_labels)\n",
    "print(\"A single decision tree got an accuracy of\", dec_tree.score(full_dev, dev_labels))"
   ]
  },
  {
   "cell_type": "code",
   "execution_count": 13,
   "metadata": {
    "collapsed": false
   },
   "outputs": [],
   "source": [
    "#tree.export_graphviz(dec_tree,out_file='tree.dot')  \n",
    "#system(\"dot -Tpng 'tree.dot' -o tree.png\") "
   ]
  },
  {
   "cell_type": "markdown",
   "metadata": {},
   "source": [
    "** Baseline Random forest**"
   ]
  },
  {
   "cell_type": "code",
   "execution_count": 14,
   "metadata": {
    "collapsed": false
   },
   "outputs": [
    {
     "data": {
      "text/plain": [
       "0.84429850464198819"
      ]
     },
     "execution_count": 14,
     "metadata": {},
     "output_type": "execute_result"
    }
   ],
   "source": [
    "forest = RandomForestClassifier(random_state = 1)\n",
    "forest = forest.fit(full_train, train_labels)\n",
    "forest.score(full_dev, dev_labels)"
   ]
  },
  {
   "cell_type": "markdown",
   "metadata": {},
   "source": [
    "** Random forest with grid search to identify optimal parameters **"
   ]
  },
  {
   "cell_type": "code",
   "execution_count": 15,
   "metadata": {
    "collapsed": false
   },
   "outputs": [
    {
     "name": "stdout",
     "output_type": "stream",
     "text": [
      "A random forest with optimal parameters got an accuracy of 0.858283527439\n",
      "With 200 trees and gini as the criterion\n"
     ]
    }
   ],
   "source": [
    "parameters = {'n_estimators':[10, 50, 100, 200], 'criterion': [\"gini\", \"entropy\"]}\n",
    "forest = RandomForestClassifier(random_state = 1)\n",
    "search = GridSearchCV(forest, param_grid = parameters, scoring = \"f1_micro\")\n",
    "forest_params = search.fit(mini_train, mini_train_labels)\n",
    "forest_best = forest_params.best_params_\n",
    "forest = RandomForestClassifier(random_state = 1, max_features = 'auto', n_estimators = forest_best['n_estimators'], criterion = forest_best['criterion'])\n",
    "forest.fit(full_train, train_labels)\n",
    "forest.score(full_dev, dev_labels)\n",
    "print(\"A random forest with optimal parameters got an accuracy of\", forest.score(full_dev, dev_labels))\n",
    "print(\"With\", forest_best['n_estimators'], 'trees and', forest_best['criterion'], \"as the criterion\")"
   ]
  },
  {
   "cell_type": "markdown",
   "metadata": {},
   "source": [
    "The most important features were:"
   ]
  },
  {
   "cell_type": "code",
   "execution_count": 16,
   "metadata": {
    "collapsed": false
   },
   "outputs": [
    {
     "data": {
      "text/plain": [
       "397     docx_view_freq\n",
       "398         click_perc\n",
       "396      campaign_perc\n",
       "395    advertiser_perc\n",
       "376           cat_1903\n",
       "183            top_183\n",
       "321           cat_1403\n",
       "160            top_160\n",
       "326           cat_1408\n",
       "379           cat_1907\n",
       "Name: cols, dtype: object"
      ]
     },
     "execution_count": 16,
     "metadata": {},
     "output_type": "execute_result"
    }
   ],
   "source": [
    "features = forest.feature_importances_\n",
    "features = list(forest.feature_importances_)\n",
    "cols = list(mini_train.columns.values)\n",
    "feature_imp = pd.DataFrame({\"features\":features, \"cols\": cols})\n",
    "feature_imp.sort_values('features', ascending = False, inplace = True)\n",
    "feature_imp['cols'][:10]\n",
    "#features[0:10]"
   ]
  },
  {
   "cell_type": "markdown",
   "metadata": {},
   "source": [
    "The four engineered features were the 4 most important features in forming this random forest, followed by other binary variables for certain categories and topics."
   ]
  },
  {
   "cell_type": "markdown",
   "metadata": {},
   "source": [
    "The full classification report:"
   ]
  },
  {
   "cell_type": "code",
   "execution_count": 17,
   "metadata": {
    "collapsed": false
   },
   "outputs": [
    {
     "name": "stdout",
     "output_type": "stream",
     "text": [
      "             precision    recall  f1-score   support\n",
      "\n",
      "          0       0.87      0.98      0.92     72008\n",
      "          1       0.59      0.18      0.27     12654\n",
      "\n",
      "avg / total       0.83      0.86      0.82     84662\n",
      "\n"
     ]
    }
   ],
   "source": [
    "forest = RandomForestClassifier(random_state = 1, max_features = 'auto', n_estimators = 200, criterion = 'gini')\n",
    "forest.fit(full_train, train_labels)\n",
    "preds = forest.predict(full_dev)\n",
    "print(classification_report(dev_labels, preds))"
   ]
  },
  {
   "cell_type": "code",
   "execution_count": 18,
   "metadata": {
    "collapsed": false
   },
   "outputs": [
    {
     "data": {
      "image/png": "[encoded data removed]",
      "text/plain": [
       "<matplotlib.figure.Figure at 0xb4fcd30>"
      ]
     },
     "metadata": {},
     "output_type": "display_data"
    }
   ],
   "source": [
    "cnf_matrix = confusion_matrix(dev_labels, preds)\n",
    "np.set_printoptions(precision=2)\n",
    "\n",
    "# Plot non-normalized confusion matrix\n",
    "plt.figure()\n",
    "plot_confusion_matrix(cnf_matrix, classes=[\"unclicked\", \"clicked\"],\n",
    "                      title='Confusion matrix, with normalization')"
   ]
  },
  {
   "cell_type": "markdown",
   "metadata": {},
   "source": [
    "The scores for predicting class 1 (an ad was clicked) are much much lower than for predicting an ad not being clicked. \n",
    "\n",
    "Similar to regression, precision for 'clicked ads' is ok, recall is awful. So lots of ads that were clicked are not being identified. "
   ]
  },
  {
   "cell_type": "markdown",
   "metadata": {},
   "source": [
    "** Extra Trees with grid search to identify optimal parameters**"
   ]
  },
  {
   "cell_type": "code",
   "execution_count": 19,
   "metadata": {
    "collapsed": false
   },
   "outputs": [
    {
     "name": "stdout",
     "output_type": "stream",
     "text": [
      "A Extra Trees forest with optimal parameters got an accuracy of 0.837908388651\n",
      "With 10 trees and  entropy as the criterion\n"
     ]
    }
   ],
   "source": [
    "parameters = {'n_estimators':[10, 50, 100, 200], 'criterion': [\"gini\", \"entropy\"]}\n",
    "extrees = ExtraTreesClassifier(random_state = 1)\n",
    "search = GridSearchCV(extrees, param_grid = parameters, scoring = \"f1_micro\")\n",
    "extrees_params = search.fit(mini_train, mini_train_labels)\n",
    "extrees_best = extrees_params.best_params_\n",
    "trees = ExtraTreesClassifier(random_state = 1, max_features = 'auto', n_estimators = forest_best['n_estimators'], criterion = forest_best['criterion'])\n",
    "extrees.fit(full_train, train_labels)\n",
    "extrees.score(full_dev, dev_labels)\n",
    "print(\"A Extra Trees forest with optimal parameters got an accuracy of\", extrees.score(full_dev, dev_labels))\n",
    "print(\"With\", extrees_best['n_estimators'], 'trees and ', extrees_best['criterion'], \"as the criterion\")"
   ]
  },
  {
   "cell_type": "markdown",
   "metadata": {},
   "source": [
    "## Decision Tree Conclusion:\n",
    "Random Forest performs slightly better than a single decision and has a very similar accuracy to that of regression (.86)"
   ]
  },
  {
   "cell_type": "markdown",
   "metadata": {},
   "source": [
    "# KMeans Model"
   ]
  },
  {
   "cell_type": "markdown",
   "metadata": {},
   "source": [
    "**Rationale:** Kmeans is not necessarily the ideal approach because it assumes that each feature is equally important -- it minimizes distance in all features equally -- which is clearly not the case here. Nevertheless, we decided to try.\n",
    "\n",
    "**Approach** We tried first kmeans on the full features with 1, 3, 5, and 10 neighbours. Then we tried it using a smaller subset of features - only the four specifically engineered features, but got similar results."
   ]
  },
  {
   "cell_type": "markdown",
   "metadata": {},
   "source": [
    "** Model with full features **"
   ]
  },
  {
   "cell_type": "code",
   "execution_count": 20,
   "metadata": {
    "collapsed": false
   },
   "outputs": [
    {
     "name": "stdout",
     "output_type": "stream",
     "text": [
      "k= 1 :              precision    recall  f1-score   support\n",
      "\n",
      "          0       0.87      0.86      0.87     72008\n",
      "          1       0.26      0.27      0.27     12654\n",
      "\n",
      "avg / total       0.78      0.78      0.78     84662\n",
      "\n",
      "k= 3 :              precision    recall  f1-score   support\n",
      "\n",
      "          0       0.87      0.93      0.90     72008\n",
      "          1       0.36      0.23      0.28     12654\n",
      "\n",
      "avg / total       0.80      0.82      0.81     84662\n",
      "\n",
      "k= 5 :              precision    recall  f1-score   support\n",
      "\n",
      "          0       0.87      0.96      0.91     72008\n",
      "          1       0.44      0.18      0.26     12654\n",
      "\n",
      "avg / total       0.80      0.84      0.81     84662\n",
      "\n",
      "k= 10 :              precision    recall  f1-score   support\n",
      "\n",
      "          0       0.86      0.99      0.92     72008\n",
      "          1       0.58      0.11      0.19     12654\n",
      "\n",
      "avg / total       0.82      0.86      0.81     84662\n",
      "\n"
     ]
    }
   ],
   "source": [
    "def kmeans(k_values):\n",
    "\n",
    "    for i in k_values:\n",
    "        neigh = KNeighborsClassifier(n_neighbors=i)\n",
    "        neigh.fit(full_train, train_labels)\n",
    "        preds = neigh.predict(full_dev)\n",
    "        print(\"k=\",i,\":\",classification_report(dev_labels, preds))\n",
    "\n",
    "k_values = [1, 3, 5, 10]\n",
    "kmeans(k_values)\n",
    "\n",
    "# the prediction accuracy is still somewhat low\n",
    "# the recall and precision of predicting an ad that was clicked (1) is extremeley low even with overfitting,\n",
    "# so with more generalization and higher k-values, we don't expect much better.\n",
    "\n",
    "# try again but only with the engineered variables of clicks, not including category/topic"
   ]
  },
  {
   "cell_type": "markdown",
   "metadata": {},
   "source": [
    "** Reduced Feature Model **"
   ]
  },
  {
   "cell_type": "code",
   "execution_count": 21,
   "metadata": {
    "collapsed": false
   },
   "outputs": [
    {
     "name": "stdout",
     "output_type": "stream",
     "text": [
      "k= 1 :              precision    recall  f1-score   support\n",
      "\n",
      "          0       0.88      0.85      0.86     72008\n",
      "          1       0.28      0.33      0.30     12654\n",
      "\n",
      "avg / total       0.79      0.77      0.78     84662\n",
      "\n",
      "k= 3 :              precision    recall  f1-score   support\n",
      "\n",
      "          0       0.88      0.87      0.87     72008\n",
      "          1       0.29      0.31      0.30     12654\n",
      "\n",
      "avg / total       0.79      0.79      0.79     84662\n",
      "\n",
      "k= 5 :              precision    recall  f1-score   support\n",
      "\n",
      "          0       0.87      0.93      0.90     72008\n",
      "          1       0.36      0.23      0.28     12654\n",
      "\n",
      "avg / total       0.80      0.82      0.81     84662\n",
      "\n",
      "k= 10 :              precision    recall  f1-score   support\n",
      "\n",
      "          0       0.86      0.99      0.92     72008\n",
      "          1       0.57      0.11      0.19     12654\n",
      "\n",
      "avg / total       0.82      0.85      0.81     84662\n",
      "\n"
     ]
    }
   ],
   "source": [
    "def kmeans2(k_values):\n",
    "\n",
    "    for i in k_values:\n",
    "        neigh = KNeighborsClassifier(n_neighbors=i)\n",
    "        neigh.fit(full_train[full_train.columns[-4:]], train_labels)\n",
    "        preds = neigh.predict(full_dev[full_dev.columns[-4:]])\n",
    "        print(\"k=\",i,\":\",classification_report(dev_labels, preds))\n",
    "\n",
    "k_values = [1, 3, 5, 10]\n",
    "kmeans2(k_values)\n",
    "\n",
    "# even running on the last 4 columns, feature engineered to look at overall averages of clicks based on \n",
    "# other features like advertiser, campaign do not improve accuracy much"
   ]
  },
  {
   "cell_type": "markdown",
   "metadata": {},
   "source": [
    "** Added Additional Feature **"
   ]
  },
  {
   "cell_type": "code",
   "execution_count": 22,
   "metadata": {
    "collapsed": false
   },
   "outputs": [
    {
     "name": "stdout",
     "output_type": "stream",
     "text": [
      "k= 1 :              precision    recall  f1-score   support\n",
      "\n",
      "          0       0.88      0.82      0.85     72008\n",
      "          1       0.26      0.36      0.30     12654\n",
      "\n",
      "avg / total       0.79      0.75      0.77     84662\n",
      "\n",
      "k= 3 :              precision    recall  f1-score   support\n",
      "\n",
      "          0       0.88      0.87      0.87     72008\n",
      "          1       0.29      0.31      0.30     12654\n",
      "\n",
      "avg / total       0.79      0.79      0.79     84662\n",
      "\n",
      "k= 5 :              precision    recall  f1-score   support\n",
      "\n",
      "          0       0.87      0.92      0.89     72008\n",
      "          1       0.33      0.23      0.27     12654\n",
      "\n",
      "avg / total       0.79      0.82      0.80     84662\n",
      "\n"
     ]
    }
   ],
   "source": [
    "# try binarizing platform & advertiser_id as more features for kmeans\n",
    "# kmeans finds similar neighbors, calculates dissimilarity distances between rows\n",
    "# so more differentiating factors can help kmeans find 'similar' neighbors for prediction\n",
    "# advertiser and platform may be good features that differentiate clicks\n",
    "\n",
    "# advertiser may take a while and kill the kernel, so feel free to keep it commented out\n",
    "\n",
    "#advertiser = pd.get_dummies(train_data, columns={'advertiser_id'}, prefix=\"advertiser\")\n",
    "platform = pd.get_dummies(train_data.fillna(0), columns={'platform'}, prefix=\"platform\")\n",
    "train_data_kmeans = platform[platform.columns[:1].union(platform.columns[405:])]\n",
    "#train_data_kmeans = train_data_kmeans.merge(advertiser[advertiser.columns[:1].union(advertiser.columns[409:])], on='display_id')\n",
    "del train_data_kmeans[\"display_id\"]\n",
    "\n",
    "#advertiser_dev = pd.get_dummies(dev_data, columns={'advertiser_id'}, prefix=\"advertiser\")\n",
    "platform_dev = pd.get_dummies(dev_data.fillna(0), columns={'platform'}, prefix=\"platform\")\n",
    "dev_data_kmeans = platform_dev[platform_dev.columns[:1].union(platform_dev.columns[405:])]\n",
    "#dev_data_kmeans = dev_data_kmeans.merge(advertiser_dev[advertiser_dev.columns[:1].union(advertiser_dev.columns[409:])], on='display_id')\n",
    "del dev_data_kmeans[\"display_id\"]\n",
    "\n",
    "def kmeans3(k_values):\n",
    "\n",
    "    for i in k_values:\n",
    "        neigh = KNeighborsClassifier(n_neighbors=i)\n",
    "        neigh.fit(train_data_kmeans, train_labels)\n",
    "        preds = neigh.predict(dev_data_kmeans)\n",
    "        print(\"k=\",i,\":\",classification_report(dev_labels, preds))\n",
    "\n",
    "k_values = [1, 3, 5]\n",
    "kmeans3(k_values)"
   ]
  },
  {
   "cell_type": "markdown",
   "metadata": {},
   "source": [
    "## K-Means Conclusion:\n",
    "Kmeans did not do a good job of predicting the correct \"clicked\" ads, the recall and precision of class 1 (clicked) was ~25% which is still not great. The overall f-score of ~.80 is not bad though. "
   ]
  },
  {
   "cell_type": "markdown",
   "metadata": {},
   "source": [
    "# Single Value Decomposition - Attempt\n",
    "Much of this code is modeled of the class presentation on SVD"
   ]
  },
  {
   "cell_type": "code",
   "execution_count": 23,
   "metadata": {
    "collapsed": false
   },
   "outputs": [
    {
     "name": "stdout",
     "output_type": "stream",
     "text": [
      "overall average click-rate: 0.19364537296143453\n",
      "\n",
      "This is our prior expectation for the ad click likelihoods based on overall click-rates...\n",
      "          display_id   ad_id          count           sum  likelihood\n",
      "32225159    23120126  145293   25321.000000   4516.000000    0.178343\n",
      "32225160    23120126  201649   51067.000000   4074.000000    0.079776\n",
      "32225161    23120126  292363    7602.000000    589.000000    0.077469\n",
      "32225158    23120126   57097   34294.000000   1261.000000    0.036769\n",
      "32225155    23120125   89725   19390.000000   3991.000000    0.205817\n",
      "32225154    23120125   86281   11425.000000   1852.000000    0.162086\n",
      "32225157    23120125  254698     208.000000     21.000000    0.100478\n",
      "32225156    23120125  187797  108989.000000   9346.000000    0.085751\n",
      "32225150    23120124   83252   18266.000000   5760.000000    0.315323\n",
      "32225151    23120124  162994   11430.000000   2585.000000    0.226139\n",
      "32225153    23120124  489589     642.000000     99.000000    0.153966\n",
      "32225152    23120124  173403  128030.000000  16931.000000    0.132241\n",
      "32225147    23120123  208244   27184.000000   7630.000000    0.280669\n",
      "32225149    23120123  516264       0.193645      0.193645    0.193645\n",
      "32225148    23120123  471443    2585.000000    281.000000    0.108662\n",
      "32225146    23120123  174045    4707.000000    468.000000    0.099405\n",
      "32225141    23120122  148268    7826.000000   3437.000000    0.439121\n",
      "32225144    23120122  386922    5914.000000   1534.000000    0.259341\n",
      "32225138    23120122    5579       0.193645      0.193645    0.193645\n",
      "32225145    23120122  561507       0.193645      0.193645    0.193645\n"
     ]
    }
   ],
   "source": [
    "test = pd.read_csv('../input/clicks_test.csv')\n",
    "clicks_train = pd.read_csv(\"../input/clicks_train.csv\")\n",
    "\n",
    "# Group the ads and count up how many views and clicks\n",
    "ad_likelihood = clicks_train.groupby('ad_id')['clicked'].agg(['count','sum']).reset_index()\n",
    "\n",
    "# Calculate the overall average number of clicks\n",
    "mean_clicked = clicks_train.clicked.mean()\n",
    "print(\"overall average click-rate:\", mean_clicked)\n",
    "# del clicks_train\n",
    "\n",
    "# Calculate the likelihood of an ad click\n",
    "ad_likelihood['likelihood'] = (ad_likelihood['sum']) / (ad_likelihood['count'] + 1)\n",
    "\n",
    "# Left join the ad likelihoods into the training set by ad_id\n",
    "test = test.merge(ad_likelihood,how='left')\n",
    "\n",
    "# Fill in the blanks with the overall average likelihood\n",
    "test.fillna(mean_clicked,inplace=True)\n",
    "\n",
    "# Sort the rows by the likelihood of each ad_id within each display_id\n",
    "test.sort_values(['display_id','likelihood'],inplace=True,ascending=False)\n",
    "\n",
    "print(\"\\nThis is our prior expectation for the ad click likelihoods based on overall click-rates...\")\n",
    "print(test.head(20))\n",
    "\n",
    "# Format the data the way the submission requires\n",
    "output=test.groupby(['display_id'])['ad_id'].apply(lambda x:' '.join(map(str,x))).reset_index()\n",
    "\n",
    "# That's it for the simple solution (prior expectation)!\n",
    "output.to_csv('simplesolution3.cvs',index=False)"
   ]
  },
  {
   "cell_type": "code",
   "execution_count": 30,
   "metadata": {
    "collapsed": false
   },
   "outputs": [
    {
     "name": "stdout",
     "output_type": "stream",
     "text": [
      "This is a sample of the training data...\n"
     ]
    },
    {
     "data": {
      "text/html": [
       "<div>\n",
       "<table border=\"1\" class=\"dataframe\">\n",
       "  <thead>\n",
       "    <tr style=\"text-align: right;\">\n",
       "      <th></th>\n",
       "      <th>display_id</th>\n",
       "      <th>ad_id</th>\n",
       "      <th>clicked</th>\n",
       "    </tr>\n",
       "  </thead>\n",
       "  <tbody>\n",
       "    <tr>\n",
       "      <th>10391</th>\n",
       "      <td>2041</td>\n",
       "      <td>19959</td>\n",
       "      <td>0</td>\n",
       "    </tr>\n",
       "    <tr>\n",
       "      <th>10392</th>\n",
       "      <td>2041</td>\n",
       "      <td>144739</td>\n",
       "      <td>0</td>\n",
       "    </tr>\n",
       "    <tr>\n",
       "      <th>10393</th>\n",
       "      <td>2041</td>\n",
       "      <td>151028</td>\n",
       "      <td>1</td>\n",
       "    </tr>\n",
       "    <tr>\n",
       "      <th>10394</th>\n",
       "      <td>2041</td>\n",
       "      <td>321090</td>\n",
       "      <td>0</td>\n",
       "    </tr>\n",
       "    <tr>\n",
       "      <th>39162</th>\n",
       "      <td>7652</td>\n",
       "      <td>38762</td>\n",
       "      <td>1</td>\n",
       "    </tr>\n",
       "  </tbody>\n",
       "</table>\n",
       "</div>"
      ],
      "text/plain": [
       "       display_id   ad_id  clicked\n",
       "10391        2041   19959        0\n",
       "10392        2041  144739        0\n",
       "10393        2041  151028        1\n",
       "10394        2041  321090        0\n",
       "39162        7652   38762        1"
      ]
     },
     "execution_count": 30,
     "metadata": {},
     "output_type": "execute_result"
    }
   ],
   "source": [
    "display_sample = np.random.choice(clicks_train[\"display_id\"].unique(), 4000) # change this if too many rows\n",
    "clicks_train = clicks_train[clicks_train[\"display_id\"].isin(display_sample)]\n",
    "\n",
    "print(\"This is a sample of the training data...\")\n",
    "clicks_train.head()"
   ]
  },
  {
   "cell_type": "code",
   "execution_count": 31,
   "metadata": {
    "collapsed": false
   },
   "outputs": [
    {
     "name": "stdout",
     "output_type": "stream",
     "text": [
      "           clicked                                                          \\\n",
      "ad_id       7      164    489    568    622    656    676    710    752      \n",
      "display_id                                                                   \n",
      "2041            -1     -1     -1     -1     -1     -1     -1     -1     -1   \n",
      "7652            -1     -1     -1     -1     -1     -1     -1     -1     -1   \n",
      "10443           -1     -1     -1     -1     -1     -1     -1     -1     -1   \n",
      "20889           -1     -1     -1     -1     -1     -1     -1     -1     -1   \n",
      "25784           -1     -1     -1     -1     -1     -1     -1     -1     -1   \n",
      "\n",
      "                   ...                                                     \\\n",
      "ad_id      836     ...   544143 545193 545566 545719 545749 545852 546370   \n",
      "display_id         ...                                                      \n",
      "2041           -1  ...       -1     -1     -1     -1     -1     -1     -1   \n",
      "7652           -1  ...       -1     -1     -1     -1     -1     -1     -1   \n",
      "10443          -1  ...       -1     -1     -1     -1     -1     -1     -1   \n",
      "20889          -1  ...       -1     -1     -1     -1     -1     -1     -1   \n",
      "25784          -1  ...       -1     -1     -1     -1     -1     -1     -1   \n",
      "\n",
      "                                 \n",
      "ad_id      546404 546744 546920  \n",
      "display_id                       \n",
      "2041           -1     -1     -1  \n",
      "7652           -1     -1     -1  \n",
      "10443          -1     -1     -1  \n",
      "20889          -1     -1     -1  \n",
      "25784          -1     -1     -1  \n",
      "\n",
      "[5 rows x 9902 columns]\n"
     ]
    }
   ],
   "source": [
    "# For some reason, the pivot worked on the subset of data, but not on the entire dataset.\n",
    "\n",
    "##This transforms the training data into the format we need!\n",
    "SVDtable = clicks_train.pivot(index='display_id', columns='ad_id')\n",
    "\n",
    "##Give the NAs a -1 value for now.  Can replace later as necessary.\n",
    "SVDtable = SVDtable.fillna('-1')\n",
    "print(SVDtable.head())\n",
    "\n",
    "## Converting to a np.array is tricky, so let's put it in a csv first and then re-import it.\n",
    "SVDtable.to_csv('diditwork.csv',index=True, column_names=False)"
   ]
  },
  {
   "cell_type": "code",
   "execution_count": 32,
   "metadata": {
    "collapsed": false
   },
   "outputs": [
    {
     "name": "stdout",
     "output_type": "stream",
     "text": [
      "[[  2.04e+03  -1.00e+00  -1.00e+00 ...,  -1.00e+00  -1.00e+00  -1.00e+00]\n",
      " [  7.65e+03  -1.00e+00  -1.00e+00 ...,  -1.00e+00  -1.00e+00  -1.00e+00]\n",
      " [  1.04e+04  -1.00e+00  -1.00e+00 ...,  -1.00e+00  -1.00e+00  -1.00e+00]\n",
      " ..., \n",
      " [  1.69e+07  -1.00e+00  -1.00e+00 ...,  -1.00e+00  -1.00e+00  -1.00e+00]\n",
      " [  1.69e+07  -1.00e+00  -1.00e+00 ...,  -1.00e+00  -1.00e+00  -1.00e+00]\n",
      " [  1.69e+07  -1.00e+00  -1.00e+00 ...,  -1.00e+00  -1.00e+00  -1.00e+00]]\n"
     ]
    }
   ],
   "source": [
    "# re-import as numpy array for SVD spooky stuff\n",
    "ff = \"diditwork.csv\"\n",
    "f = open(ff)\n",
    "\n",
    "junkline = f.readline() # says \"clicked\" a bunch of times\n",
    "column_names = f.readline()\n",
    "# print(column_names)\n",
    "anotherjunkline = f.readline() #has \"display_id\" header with a bunch of NaN entries...\n",
    "\n",
    "def converter(x):\n",
    "    if x == -1:\n",
    "        return np.nan # Why doesn't this work?  -1s show up everywhere\n",
    "    else:\n",
    "        return float(x)\n",
    "    \n",
    "data = np.loadtxt(f, delimiter=',', converters={1:converter})\n",
    "\n",
    "print(data[:])"
   ]
  },
  {
   "cell_type": "code",
   "execution_count": 33,
   "metadata": {
    "collapsed": false
   },
   "outputs": [
    {
     "name": "stdout",
     "output_type": "stream",
     "text": [
      "[[  2.04e+03   0.00e+00   0.00e+00 ...,   0.00e+00   0.00e+00   0.00e+00]\n",
      " [  7.65e+03   0.00e+00   0.00e+00 ...,   0.00e+00   0.00e+00   0.00e+00]\n",
      " [  1.04e+04   0.00e+00   0.00e+00 ...,   0.00e+00   0.00e+00   0.00e+00]\n",
      " ..., \n",
      " [  1.69e+07   0.00e+00   0.00e+00 ...,   0.00e+00   0.00e+00   0.00e+00]\n",
      " [  1.69e+07   0.00e+00   0.00e+00 ...,   0.00e+00   0.00e+00   0.00e+00]\n",
      " [  1.69e+07   0.00e+00   0.00e+00 ...,   0.00e+00   0.00e+00   0.00e+00]]\n",
      "(4000, 9903)\n",
      "<class 'numpy.ndarray'>\n",
      "1.0\n",
      "1.0\n",
      "1.0\n",
      "1.0\n",
      "1.0\n"
     ]
    }
   ],
   "source": [
    "# Let's set the NAs to 0 for now to match the joke recommender sample code...\n",
    "data[:, 1:][data[:, 1:] == -1] = 0 # np.nan\n",
    "\n",
    "print(data[:])\n",
    "print(data.shape)\n",
    "print(type(data))\n",
    "\n",
    "# only one click each row!?\n",
    "print(np.sum(data[0][1:]))\n",
    "print(np.sum(data[1][1:]))\n",
    "print(np.sum(data[2][1:]))\n",
    "print(np.sum(data[3][1:]))\n",
    "print(np.sum(data[4][1:]))"
   ]
  },
  {
   "cell_type": "code",
   "execution_count": 34,
   "metadata": {
    "collapsed": false
   },
   "outputs": [
    {
     "name": "stdout",
     "output_type": "stream",
     "text": [
      "(4000, 4000)\n",
      "(4000,)\n",
      "(4000, 9902)\n",
      "[[ 0.  0.  0. ...,  0.  0.  0.]\n",
      " [ 0.  0.  0. ...,  0.  0.  0.]\n",
      " [ 0.  0.  0. ...,  0.  0.  0.]\n",
      " ..., \n",
      " [ 0.  0.  0. ...,  0.  0.  0.]\n",
      " [ 0.  0.  0. ...,  0.  0.  0.]\n",
      " [ 0.  0.  0. ...,  0.  0.  0.]]\n",
      "[[ 0.  0.  0. ...,  0.  0.  0.]\n",
      " [ 0.  0.  0. ...,  0.  0.  0.]\n",
      " [ 0.  0.  0. ...,  0.  0.  0.]\n",
      " ..., \n",
      " [ 0.  0.  0. ...,  0.  0.  0.]\n",
      " [ 0.  0.  0. ...,  0.  0.  0.]\n",
      " [ 0.  0.  0. ...,  0.  0.  0.]]\n"
     ]
    }
   ],
   "source": [
    "# full svd; note that the first column is dropped since it's the display_id\n",
    "u, s, v = np.linalg.svd(data[:, 1:], full_matrices=False)\n",
    "\n",
    "print(u.shape)\n",
    "print(s.shape)\n",
    "print(v.shape)\n",
    "\n",
    "# these are (nearly) the same, that's the decomposition!\n",
    "print(data[:, 1:])\n",
    "\n",
    "print(np.dot(np.dot(u, np.diag(s)), v)) # the full reconstruction"
   ]
  },
  {
   "cell_type": "code",
   "execution_count": 35,
   "metadata": {
    "collapsed": false
   },
   "outputs": [
    {
     "name": "stdout",
     "output_type": "stream",
     "text": [
      "[[ 0.  0.  0. ...,  0.  0.  0.]\n",
      " [ 0.  0.  0. ...,  0.  0.  0.]\n",
      " [ 0.  0.  0. ...,  0.  0.  0.]\n",
      " ..., \n",
      " [ 0.  0.  0. ...,  0.  0.  0.]\n",
      " [ 0.  0.  0. ...,  0.  0.  0.]\n",
      " [ 0.  0.  0. ...,  0.  0.  0.]]\n",
      "1.0\n",
      "0.0\n",
      "0.0\n",
      "1.0\n"
     ]
    }
   ],
   "source": [
    "n_comp = 10\n",
    "\n",
    "# make a new s vector with only the first few values kept\n",
    "s_padded = np.zeros(len(s))\n",
    "s_padded[:n_comp] = s[:n_comp]\n",
    "\n",
    "filled_in = np.dot(np.dot(u, np.diag(s_padded)), v)\n",
    "\n",
    "# Okay, this is bad.  Why are the recommendations all zero?  Too sparse??\n",
    "print(filled_in)\n",
    "\n",
    "# No recommendations!!!\n",
    "print(np.sum(filled_in[0][:]))\n",
    "print(np.sum(filled_in[1][:]))\n",
    "print(np.sum(filled_in[2][:]))\n",
    "print(np.sum(filled_in[3][:]))"
   ]
  },
  {
   "cell_type": "markdown",
   "metadata": {},
   "source": [
    "# Conclusion"
   ]
  },
  {
   "cell_type": "markdown",
   "metadata": {},
   "source": [
    "Linear regression and random forest models produced similar accuracies (around 86%). \n",
    "\n",
    "Given the nature of the data - many irrelevant features and strong multicolinearity between some features - random forest is the logically best choice and since it is equally effective, we will conclude that our final model is a Random Forest, with 200 trees and gini as the evaluation criteria. "
   ]
  }
 ],
 "metadata": {
  "kernelspec": {
   "display_name": "Python 3",
   "language": "python",
   "name": "python3"
  },
  "language_info": {
   "codemirror_mode": {
    "name": "ipython",
    "version": 3
   },
   "file_extension": ".py",
   "mimetype": "text/x-python",
   "name": "python",
   "nbconvert_exporter": "python",
   "pygments_lexer": "ipython3",
   "version": "3.5.1"
  }
 },
 "nbformat": 4,
 "nbformat_minor": 0
}
